{
 "cells": [
  {
   "cell_type": "markdown",
   "metadata": {},
   "source": [
    "## MDR VAE\n",
    "This notebook contains a standard VAE with KL constrained to a minimum value, proposed as __MDR__ (Minimum Desired Rate) in\n",
    "[Effective Estimation of Deep Generative Language Models](https://arxiv.org/abs/1904.08194). Because Pytorch optimizers only minimize I've slightly modified the notation, but the math stays the same.\n",
    "\n",
    "We minimize the negative ELBO constrained by the KL:\n",
    "\n",
    "$$ \\min_{\\theta, \\lambda}\\mathcal{L}(\\theta, \\lambda | \\mathcal{D}) = - \\mathbb{E}_{\\mathcal{D}(X)}\\left[\\mathbb{E}_{q(z|x;\\lambda) }[\\log p(x|z ; \\theta)] - \\text{KL}(q(z|x;\\lambda) || p(z))\\right]\\\\\n",
    "\\text{s.t.}\\;\\text{KL}(q(z|x;\\lambda) || p(z)) \\geq r$$\n",
    "\n",
    "Which can be reformulated as dual problem:\n",
    "$$\\max_{\\alpha \\in \\mathbb{R}+}\\min_{\\theta, \\lambda}\\mathcal{L}(\\theta, \\lambda | \\mathcal{D}) + \\alpha (\\text{KL} - r)$$\n",
    "The second part of this loss is handled by the Constraint module, and $\\max_\\alpha$ by the ConstraintOptimizer"
   ]
  },
  {
   "cell_type": "code",
   "execution_count": 1,
   "metadata": {},
   "outputs": [],
   "source": [
    "import torch\n",
    "import torch.nn.functional as F\n",
    "from torch.distributions import Normal, Bernoulli, kl_divergence\n",
    "from torch.nn.utils.clip_grad import clip_grad_norm_\n",
    "import matplotlib.pyplot as plt\n",
    "from constraint import Constraint, ConstraintOptimizer\n",
    "plt.style.use('seaborn')\n",
    "\n",
    "class VAE(torch.nn.Module):\n",
    "    \"\"\"\n",
    "    A minimal VAE implementation where\n",
    "    p(x|z) = Bern(f(z; \\theta))\n",
    "    q(z|x) = N(mu(x; \\lambda), softplus(std(x; \\lambda)))\n",
    "    p(z) = N(0, 1)\n",
    "    \"\"\"\n",
    "    def __init__(self, input_size, hidden_size, latent_size):\n",
    "        super().__init__()\n",
    "        self.inf_net = torch.nn.Sequential(\n",
    "            torch.nn.Linear(input_size, hidden_size),\n",
    "            torch.nn.ReLU(),\n",
    "            torch.nn.Linear(hidden_size, latent_size*2))\n",
    "\n",
    "        self.gen_net = torch.nn.Sequential(\n",
    "            torch.nn.Linear(latent_size, hidden_size),\n",
    "            torch.nn.ReLU(),\n",
    "            torch.nn.Linear(hidden_size, input_size))\n",
    "        \n",
    "    def q_z(self, x):\n",
    "        h = self.inf_net(x)\n",
    "        mean, std = torch.split(h, h.size(-1)//2, -1)\n",
    "        return Normal(mean, F.softplus(std))\n",
    "    \n",
    "    def p_z(self):\n",
    "        return Normal(0, 1)\n",
    "    \n",
    "    def p_x(self, z):\n",
    "        return Bernoulli(logits=self.gen_net(z))\n",
    "        \n",
    "    def forward(self, x):\n",
    "        q_z = self.q_z(x)\n",
    "        p_z = self.p_z()\n",
    "        p_x = self.p_x(q_z.rsample())\n",
    "        \n",
    "        # calculate loss\n",
    "        ll = p_x.log_prob(x).sum(-1)\n",
    "        kl = kl_divergence(q_z, p_z).sum(-1)\n",
    "        # Interpretable metric, average element-wise accuracy\n",
    "        acc = (p_x.sample() == x).detach().float().mean()\n",
    "        return ll, kl, acc"
   ]
  },
  {
   "cell_type": "code",
   "execution_count": 2,
   "metadata": {},
   "outputs": [],
   "source": [
    "# Let's train the VAE solve a simple task: Reconstruct a bitstring of 10 bits. \n",
    "# While simple, without any modifications to the loss the posterior collapses.\n",
    "\n",
    "batch_size = 128\n",
    "x_size = 10\n",
    "hidden_size = 16\n",
    "latent_size = 2\n",
    "num_steps = 30000\n",
    "\n",
    "def make_batch(batch_size, x_size):\n",
    "    \"\"\"Returns a batch of random bitstrings\"\"\"\n",
    "    return torch.randint(0, 2, [batch_size, x_size]).float()"
   ]
  },
  {
   "cell_type": "code",
   "execution_count": 3,
   "metadata": {},
   "outputs": [
    {
     "name": "stdout",
     "output_type": "stream",
     "text": [
      "30000/30000\tll -6.935\tkl 0.000\tacc 0.518\r"
     ]
    }
   ],
   "source": [
    "# Train VAE with ELBO without any modifications.\n",
    "torch.manual_seed(0)\n",
    "model = VAE(x_size, hidden_size, latent_size)\n",
    "opt = torch.optim.Adam(model.parameters(), lr=5e-3)\n",
    "\n",
    "# Save some values for plotting\n",
    "kl_list = []\n",
    "ll_list = []\n",
    "\n",
    "for i in range(1, num_steps+1):\n",
    "    model.train()\n",
    "    opt.zero_grad()\n",
    "    \n",
    "    # Forward pass\n",
    "    bx = make_batch(batch_size, x_size)\n",
    "    ll, kl, acc = model(bx)\n",
    "    # Loss\n",
    "    elbo = ll - kl\n",
    "    loss = -elbo.mean()\n",
    "    # Backward pass\n",
    "    loss.backward()\n",
    "    clip_grad_norm_(model.parameters(), 1, float('inf'))\n",
    "    opt.step()\n",
    "    \n",
    "    ll_list.append(ll.detach().mean())\n",
    "    kl_list.append(kl.detach().mean())\n",
    "    \n",
    "    if not i % 100:\n",
    "        s = '{}/{}\\tll {:.3f}\\tkl {:.3f}\\tacc {:.3f}'.format(i, num_steps, ll.detach().mean(), kl.detach().mean(), acc)\n",
    "        print(s, end='\\r', flush=True)"
   ]
  },
  {
   "cell_type": "code",
   "execution_count": 4,
   "metadata": {},
   "outputs": [
    {
     "data": {
      "image/png": "[encoded data removed]",
      "text/plain": [
       "<Figure size 1008x288 with 2 Axes>"
      ]
     },
     "metadata": {
      "needs_background": "light"
     },
     "output_type": "display_data"
    }
   ],
   "source": [
    "# A clear case of posterior collapse, KL goes to zero and the likelihood doesn't converge at all.\n",
    "\n",
    "plt.figure(figsize=(14, 4))\n",
    "plt.subplot(1, 2, 1)\n",
    "plt.plot(range(len(ll_list)), ll_list)\n",
    "plt.xlabel('step')\n",
    "plt.ylabel('ll')\n",
    "\n",
    "plt.subplot(1, 2, 2)\n",
    "plt.plot(range(len(kl_list)), kl_list)\n",
    "plt.xlabel('step')\n",
    "plt.ylabel('kl')\n",
    "plt.show()"
   ]
  },
  {
   "cell_type": "code",
   "execution_count": 5,
   "metadata": {},
   "outputs": [
    {
     "name": "stdout",
     "output_type": "stream",
     "text": [
      "30000/30000\tll -2.549\tkl 4.953\tacc 0.815\r"
     ]
    }
   ],
   "source": [
    "# Train the same VAE with ELBO, constrained by KL(q(z|x) || p(z)) >= 5\n",
    "torch.manual_seed(0)\n",
    "model = VAE(x_size, hidden_size, latent_size)\n",
    "opt = torch.optim.Adam(model.parameters(), lr=5e-3)\n",
    "# Define constraint\n",
    "kl_constraint = Constraint(5, 'ge', alpha=0.5) # KL >= 5\n",
    "# ConstraintOptimizer is a normal Optimizer, but step() does gradient ascent instead of descent.\n",
    "constraint_opt = ConstraintOptimizer(\n",
    "    torch.optim.RMSprop, kl_constraint.parameters(), 2e-3\n",
    ")\n",
    "\n",
    "# Save some values for plotting\n",
    "kl_list = []\n",
    "ll_list = []\n",
    "\n",
    "for i in range(1, num_steps+1):\n",
    "    model.train()\n",
    "    opt.zero_grad()\n",
    "    constraint_opt.zero_grad()\n",
    "    \n",
    "    # Forward pass\n",
    "    bx = make_batch(batch_size, x_size)\n",
    "    ll, kl, acc = model(bx)\n",
    "    # Loss\n",
    "    elbo = ll - kl\n",
    "    loss = (-elbo + kl_constraint(kl)).mean()\n",
    "    # Backward pass\n",
    "    loss.backward()\n",
    "    clip_grad_norm_(model.parameters(), 1, float('inf'))\n",
    "    opt.step()\n",
    "    constraint_opt.step()\n",
    "    \n",
    "    ll_list.append(ll.detach().mean())\n",
    "    kl_list.append(kl.detach().mean())\n",
    "    \n",
    "    if not i % 100:\n",
    "        s = '{}/{}\\tll {:.3f}\\tkl {:.3f}\\tacc {:.3f}'.format(i, num_steps, ll.detach().mean(), kl.detach().mean(), acc)\n",
    "        print(s, end='\\r', flush=True)"
   ]
  },
  {
   "cell_type": "code",
   "execution_count": 6,
   "metadata": {},
   "outputs": [
    {
     "data": {
      "image/png": "[encoded data removed]",
      "text/plain": [
       "<Figure size 1008x288 with 2 Axes>"
      ]
     },
     "metadata": {
      "needs_background": "light"
     },
     "output_type": "display_data"
    }
   ],
   "source": [
    "# With a constraint at KL >= 5 the model trains fine and achieves the target rate.\n",
    "plt.figure(figsize=(14, 4))\n",
    "plt.subplot(1, 2, 1)\n",
    "plt.plot(range(len(ll_list)), ll_list)\n",
    "plt.xlabel('step')\n",
    "plt.ylabel('ll')\n",
    "\n",
    "plt.subplot(1, 2, 2)\n",
    "plt.plot(range(len(kl_list)), kl_list)\n",
    "plt.xlabel('step')\n",
    "plt.ylabel('kl')\n",
    "plt.show()"
   ]
  }
 ],
 "metadata": {
  "kernelspec": {
   "display_name": "Python 3",
   "language": "python",
   "name": "python3"
  },
  "language_info": {
   "codemirror_mode": {
    "name": "ipython",
    "version": 3
   },
   "file_extension": ".py",
   "mimetype": "text/x-python",
   "name": "python",
   "nbconvert_exporter": "python",
   "pygments_lexer": "ipython3",
   "version": "3.7.3"
  }
 },
 "nbformat": 4,
 "nbformat_minor": 2
}
